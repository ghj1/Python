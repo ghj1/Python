{
 "cells": [
  {
   "cell_type": "code",
   "execution_count": 10,
   "id": "cf46d624",
   "metadata": {},
   "outputs": [],
   "source": [
    "import os"
   ]
  },
  {
   "cell_type": "code",
   "execution_count": 2,
   "id": "48683ee9",
   "metadata": {},
   "outputs": [
    {
     "name": "stdout",
     "output_type": "stream",
     "text": [
      "1 \n",
      "2 /Users/gimhyeonjeong/Desktop/python/test.py\n",
      "3 /Users/gimhyeonjeong/Desktop/python/test.py\n",
      "4 /Users/gimhyeonjeong/Desktop/python\n",
      "5 /Users/gimhyeonjeong/Desktop/python\n"
     ]
    }
   ],
   "source": [
    "print(1, os.path.dirname('test.py'))\n",
    "print(2, os.path.realpath('test.py'))\n",
    "print(3, os.path.abspath('test.py'))\n",
    "print(4, os.getcwd())# 현재 디렉토리 \n",
    "print(5, os.path.dirname(os.path.realpath('test.py')))\n"
   ]
  },
  {
   "cell_type": "code",
   "execution_count": 3,
   "id": "13b2f5bf",
   "metadata": {},
   "outputs": [
    {
     "name": "stdout",
     "output_type": "stream",
     "text": [
      "['01. 파이썬 기본 입출력 실습 문제 풀이 .ipynb', '파일경로.ipynb', '.ipynb_checkpoints']\n"
     ]
    }
   ],
   "source": [
    "import os \n",
    "\n",
    "print(os.listdir(os.getcwd()))"
   ]
  },
  {
   "cell_type": "code",
   "execution_count": 4,
   "id": "dbdf275a",
   "metadata": {},
   "outputs": [
    {
     "name": "stdout",
     "output_type": "stream",
     "text": [
      "/Users/gimhyeonjeong/Desktop\n"
     ]
    }
   ],
   "source": [
    "import os \n",
    "\n",
    "dir = '../' # 디렉토리 지정\n",
    "os.chdir(dir) # 디렉토리 변경\n",
    "path = os.getcwd() # 변경된 디렉토리 확인\n",
    "print(path)"
   ]
  },
  {
   "cell_type": "code",
   "execution_count": 11,
   "id": "ae7bb00f",
   "metadata": {},
   "outputs": [
    {
     "name": "stdout",
     "output_type": "stream",
     "text": [
      "Error: Creating directory. /Users/gimhyenjeong/Desktop/test\n"
     ]
    }
   ],
   "source": [
    "import os \n",
    "\n",
    "def createFolder(directory):\n",
    "    try: \n",
    "        if not os.path.exists(directory):\n",
    "            os.makedirs(directory)\n",
    "    except OSError:\n",
    "        print('Error: Creating directory. ' + directory)\n",
    "dirname = '/Users/gimhyenjeong/Desktop/test'\n",
    "createFolder(dirname)"
   ]
  },
  {
   "cell_type": "code",
   "execution_count": 23,
   "id": "85e71a31",
   "metadata": {},
   "outputs": [
    {
     "ename": "NameError",
     "evalue": "name 'python' is not defined",
     "output_type": "error",
     "traceback": [
      "\u001b[0;31m---------------------------------------------------------------------------\u001b[0m",
      "\u001b[0;31mNameError\u001b[0m                                 Traceback (most recent call last)",
      "\u001b[0;32m/var/folders/4l/5l8z2nvs67xc2t0k7mmk_cd40000gn/T/ipykernel_1952/2371587696.py\u001b[0m in \u001b[0;36m<module>\u001b[0;34m\u001b[0m\n\u001b[1;32m      1\u001b[0m \u001b[0;32mimport\u001b[0m \u001b[0mos\u001b[0m\u001b[0;34m\u001b[0m\u001b[0;34m\u001b[0m\u001b[0m\n\u001b[1;32m      2\u001b[0m \u001b[0;34m\u001b[0m\u001b[0m\n\u001b[0;32m----> 3\u001b[0;31m \u001b[0mos\u001b[0m\u001b[0;34m.\u001b[0m\u001b[0mmakedirs\u001b[0m\u001b[0;34m(\u001b[0m\u001b[0mpython\u001b[0m\u001b[0;34m)\u001b[0m\u001b[0;34m\u001b[0m\u001b[0;34m\u001b[0m\u001b[0m\n\u001b[0m",
      "\u001b[0;31mNameError\u001b[0m: name 'python' is not defined"
     ]
    }
   ],
   "source": [
    "import os \n",
    "\n",
    "os.makedirs(python)"
   ]
  },
  {
   "cell_type": "code",
   "execution_count": 15,
   "id": "0d37c4e7",
   "metadata": {},
   "outputs": [],
   "source": [
    "import os "
   ]
  },
  {
   "cell_type": "code",
   "execution_count": 16,
   "id": "1da65235",
   "metadata": {},
   "outputs": [
    {
     "ename": "NameError",
     "evalue": "name 'directory' is not defined",
     "output_type": "error",
     "traceback": [
      "\u001b[0;31m---------------------------------------------------------------------------\u001b[0m",
      "\u001b[0;31mNameError\u001b[0m                                 Traceback (most recent call last)",
      "\u001b[0;32m/var/folders/4l/5l8z2nvs67xc2t0k7mmk_cd40000gn/T/ipykernel_1952/2524363067.py\u001b[0m in \u001b[0;36m<module>\u001b[0;34m\u001b[0m\n\u001b[0;32m----> 1\u001b[0;31m \u001b[0mos\u001b[0m\u001b[0;34m.\u001b[0m\u001b[0mrmdir\u001b[0m\u001b[0;34m(\u001b[0m\u001b[0mdirectory\u001b[0m\u001b[0;34m)\u001b[0m\u001b[0;34m\u001b[0m\u001b[0;34m\u001b[0m\u001b[0m\n\u001b[0m",
      "\u001b[0;31mNameError\u001b[0m: name 'directory' is not defined"
     ]
    }
   ],
   "source": [
    "os.rmdir(directory)"
   ]
  },
  {
   "cell_type": "code",
   "execution_count": 29,
   "id": "ec30e614",
   "metadata": {},
   "outputs": [],
   "source": [
    "f = open('python/sample.txt', 'w') \n",
    "f.close()"
   ]
  },
  {
   "cell_type": "code",
   "execution_count": 30,
   "id": "7c032095",
   "metadata": {},
   "outputs": [],
   "source": [
    "f = open('python/새파일.txt','w')\n",
    "for i in range(1,11):\n",
    "    data = '%d 번째 줄입니다.\\n' %i\n",
    "    f.write(data)\n",
    "f.close()"
   ]
  },
  {
   "cell_type": "code",
   "execution_count": 31,
   "id": "36e624ad",
   "metadata": {},
   "outputs": [
    {
     "name": "stdout",
     "output_type": "stream",
     "text": [
      "1 번째 줄입니다.\n",
      "\n"
     ]
    },
    {
     "data": {
      "text/plain": [
       "<function TextIOWrapper.close()>"
      ]
     },
     "execution_count": 31,
     "metadata": {},
     "output_type": "execute_result"
    }
   ],
   "source": [
    "f = open('python/새파일.txt', 'r')\n",
    "line = f.readline()\n",
    "print(line)\n",
    "f.close"
   ]
  },
  {
   "cell_type": "code",
   "execution_count": 33,
   "id": "030ff50a",
   "metadata": {},
   "outputs": [
    {
     "name": "stdout",
     "output_type": "stream",
     "text": [
      "1 번째 줄입니다.\n",
      "\n",
      "2 번째 줄입니다.\n",
      "\n",
      "3 번째 줄입니다.\n",
      "\n",
      "4 번째 줄입니다.\n",
      "\n",
      "5 번째 줄입니다.\n",
      "\n",
      "6 번째 줄입니다.\n",
      "\n",
      "7 번째 줄입니다.\n",
      "\n",
      "8 번째 줄입니다.\n",
      "\n",
      "9 번째 줄입니다.\n",
      "\n",
      "10 번째 줄입니다.\n",
      "\n"
     ]
    }
   ],
   "source": [
    "f = open('python/새파일.txt', 'r')\n",
    "while True: \n",
    "    line = f.readline()\n",
    "    if not line: break\n",
    "    print(line)\n",
    "f.close()"
   ]
  },
  {
   "cell_type": "code",
   "execution_count": 35,
   "id": "502c8950",
   "metadata": {},
   "outputs": [
    {
     "name": "stdout",
     "output_type": "stream",
     "text": [
      "1 번째 줄입니다.\n",
      "\n",
      "2 번째 줄입니다.\n",
      "\n",
      "3 번째 줄입니다.\n",
      "\n",
      "4 번째 줄입니다.\n",
      "\n",
      "5 번째 줄입니다.\n",
      "\n",
      "6 번째 줄입니다.\n",
      "\n",
      "7 번째 줄입니다.\n",
      "\n",
      "8 번째 줄입니다.\n",
      "\n",
      "9 번째 줄입니다.\n",
      "\n",
      "10 번째 줄입니다.\n",
      "\n"
     ]
    }
   ],
   "source": [
    "f = open('python/새파일.txt', 'r')\n",
    "lines = f.readlines()\n",
    "for line in lines:\n",
    "    print(line)\n",
    "f.close()"
   ]
  },
  {
   "cell_type": "code",
   "execution_count": 36,
   "id": "87f28755",
   "metadata": {},
   "outputs": [
    {
     "name": "stdout",
     "output_type": "stream",
     "text": [
      "1 번째 줄입니다.\n",
      "2 번째 줄입니다.\n",
      "3 번째 줄입니다.\n",
      "4 번째 줄입니다.\n",
      "5 번째 줄입니다.\n",
      "6 번째 줄입니다.\n",
      "7 번째 줄입니다.\n",
      "8 번째 줄입니다.\n",
      "9 번째 줄입니다.\n",
      "10 번째 줄입니다.\n",
      "\n"
     ]
    }
   ],
   "source": [
    "f = open('python/새파일.txt', 'r')\n",
    "data = f.read()\n",
    "print(data)\n",
    "f.close()\n"
   ]
  },
  {
   "cell_type": "code",
   "execution_count": 40,
   "id": "c9bc483c",
   "metadata": {},
   "outputs": [],
   "source": [
    "f = open('python/새파일.txt', 'a')\n",
    "for i in range(11,21):\n",
    "    data = '%d 번째 줄입니다.\\n' %i\n",
    "    f.write(data)\n",
    "f.close()"
   ]
  },
  {
   "cell_type": "code",
   "execution_count": 42,
   "id": "f85e6994",
   "metadata": {},
   "outputs": [],
   "source": [
    "with open('python/test.txt', 'w')as f:\n",
    "    f.write('사랑해요, 파이썬!')"
   ]
  },
  {
   "cell_type": "code",
   "execution_count": 43,
   "id": "c11af76d",
   "metadata": {},
   "outputs": [
    {
     "data": {
      "text/plain": [
       "'python/새파일2.txt'"
      ]
     },
     "execution_count": 43,
     "metadata": {},
     "output_type": "execute_result"
    }
   ],
   "source": [
    "import shutil \n",
    "shutil.copy('python/새파일.txt', 'python/새파일2.txt')"
   ]
  },
  {
   "cell_type": "code",
   "execution_count": null,
   "id": "9ae05e3e",
   "metadata": {},
   "outputs": [],
   "source": []
  },
  {
   "cell_type": "code",
   "execution_count": 55,
   "id": "fd50ce65",
   "metadata": {},
   "outputs": [],
   "source": [
    "with open('python/sample.txt' , 'w')as f:\n",
    "    import random \n",
    "    for i in range(10):\n",
    "        f.write('%d\\n' %random.randrange(1,101))"
   ]
  },
  {
   "cell_type": "code",
   "execution_count": 56,
   "id": "73c34e94",
   "metadata": {},
   "outputs": [
    {
     "name": "stdout",
     "output_type": "stream",
     "text": [
      "['70\\n87\\n10\\n16\\n33\\n13\\n88\\n39\\n53\\n63\\n']\n"
     ]
    }
   ],
   "source": [
    "f = open('python/sample.txt', 'r')\n",
    "data = f.read()\n",
    "print([data])"
   ]
  },
  {
   "cell_type": "code",
   "execution_count": null,
   "id": "945c92b5",
   "metadata": {},
   "outputs": [],
   "source": [
    "import numpy as np\n",
    "with open(\"python/sample.txt\", 'r') as f:\n",
    "    lines = f.readlines()\n",
    "    nums = list()\n",
    "    for line in lines:\n",
    "        nums.append(int(line))\n",
    "    hap = np.sum(nums)\n",
    "    mean = np.mean(nums)\n",
    "    msg = str(nums)+f\"의\\n 총합은 {hap}입니다.  \\n 평균은 {mean}입니다.\"\n",
    "    print(msg)\n",
    "with open(\"./result.txt\" , 'w', encoding='utf8') as f:\n",
    "    f.write(msg)"
   ]
  },
  {
   "cell_type": "code",
   "execution_count": null,
   "id": "42ca891b",
   "metadata": {},
   "outputs": [],
   "source": [
    "with open('python/sample.txt', 'r+') as f:\n",
    "    num = list(map(int,f.read().replace(‘\\n’,' ‘).split()))\n",
    "    print(f’{num}\\n총합은 {sum(num)} 입니다.\\n평균은 {sum(num)/len(num)} 입니다.’)\n",
    "    g = open(“result.txt”,‘w’)\n",
    "    g.write(f’{num}\\n총합은 {sum(num)} 입니다.\\n평균은 {sum(num)/len(num)} 입니다.’)\n",
    "    g.close()"
   ]
  },
  {
   "cell_type": "code",
   "execution_count": null,
   "id": "630acaa9",
   "metadata": {},
   "outputs": [],
   "source": []
  }
 ],
 "metadata": {
  "kernelspec": {
   "display_name": "Python 3 (ipykernel)",
   "language": "python",
   "name": "python3"
  },
  "language_info": {
   "codemirror_mode": {
    "name": "ipython",
    "version": 3
   },
   "file_extension": ".py",
   "mimetype": "text/x-python",
   "name": "python",
   "nbconvert_exporter": "python",
   "pygments_lexer": "ipython3",
   "version": "3.8.10"
  }
 },
 "nbformat": 4,
 "nbformat_minor": 5
}
