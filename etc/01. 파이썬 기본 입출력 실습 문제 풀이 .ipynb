{
 "cells": [
  {
   "cell_type": "code",
   "execution_count": null,
   "id": "fc664982",
   "metadata": {},
   "outputs": [],
   "source": [
    "a = int(input('첫번째 숫자:'))\n",
    "b = int(input('첫번째 숫자:'))\n",
    "\n",
    "print(f'덧셈: {a}+{b} ={a+b}')\n",
    "print(f'뺄셈: {a}-{b} ={a-b}')\n",
    "print(f'곱셈: {a}*{b} ={a*b}')\n",
    "print('몫: %d // %d = %d' %((a),(b),(a//b)))\n",
    "print(f'나머지: {a}%{b} ={a%b}')\n",
    "print(f'몫: {a}//{b} ={a//b:2}')\n"
   ]
  },
  {
   "cell_type": "code",
   "execution_count": null,
   "id": "0c76fa4d",
   "metadata": {},
   "outputs": [],
   "source": [
    "fast = int(input('속도를 입력해 주세요: '))\n",
    "dis = int(input('거리를 입력해 주세요: '))\n",
    "\n",
    "print(f'속도: {fast}\\n거리: {dis}\\n시간 = {dis} / {fast} = {dis/fast:.1f}')\n",
    "#소수점 자리 표현 a =1.428729 f_string - > s= f'{a:.2f} -> 1.43\n"
   ]
  },
  {
   "cell_type": "code",
   "execution_count": null,
   "id": "c67fa29c",
   "metadata": {},
   "outputs": [],
   "source": [
    "leng = int(input('길이: '))\n",
    "width = int(input('너비: '))\n",
    "\n",
    "print(f'면적: {leng}*{width} = {leng*width}')\n",
    "print(f'둘레: {leng}*2 + {width}*2 = {leng*2+width*2}')\n"
   ]
  },
  {
   "cell_type": "code",
   "execution_count": null,
   "id": "9bc97de1",
   "metadata": {},
   "outputs": [],
   "source": [
    "n = int(input('정수를 입력하세요: '))\n",
    "n2 = nn\n",
    "n3 = nnn\n",
    "print(f'{n}+{n}{n}+{n}{n}{n}= {n+n2+n3}')"
   ]
  },
  {
   "cell_type": "code",
   "execution_count": null,
   "id": "1af8b2a8",
   "metadata": {},
   "outputs": [],
   "source": [
    "a = input('정수를 입력하세요: ')\n",
    "n = int(a)\n",
    "nn= int(a+a)\n",
    "nnn = int(a+a+a)\n",
    "\n",
    "print(f'{n}+{nn}+{nnn} = {n+nn+nnn}')"
   ]
  },
  {
   "cell_type": "code",
   "execution_count": null,
   "id": "571aeccb",
   "metadata": {},
   "outputs": [],
   "source": [
    "s = input('문자열을 입력하세요: ')\n",
    "s[::-1]"
   ]
  },
  {
   "cell_type": "code",
   "execution_count": null,
   "id": "dc39b19d",
   "metadata": {},
   "outputs": [],
   "source": [
    "a = input('파일을 입력하세요: ')\n",
    "b = a[0:4]\n",
    "c = a[5:7]\n",
    "print(f'파일: {a}')\n",
    "print(f'파일명: {b}, 확장자: {c}')"
   ]
  },
  {
   "cell_type": "code",
   "execution_count": null,
   "id": "714387e9",
   "metadata": {},
   "outputs": [],
   "source": [
    "import datetime\n",
    "a = datetime.datetime(2021,7,21,13,14,36,958242)\n",
    "\n",
    "b = str(a)\n",
    "print(b)\n",
    "type(b)\n",
    "\n",
    "yy = b[0:4]\n",
    "mm = b[5:7]\n",
    "dd = b[8:10]\n",
    "hh = b[11:13]\n",
    "mi = b[14:16]\n",
    "se = b[17:19]\n",
    "\n",
    "\n",
    "print(f'지금 시각은 {yy}년{mm}월{dd}일 {hh}시{mi}분{se}초 입니다.')"
   ]
  },
  {
   "cell_type": "code",
   "execution_count": null,
   "id": "ef1749e7",
   "metadata": {},
   "outputs": [],
   "source": [
    "a = int(input('동전으로 교환할 금액을 입력하세요: '))\n",
    "\n",
    "오백원 = a//500 \n",
    "a = a%500 \n",
    "백원 = a//100\n",
    "a = a%100\n",
    "오십원 = a//50\n",
    "a = a%50 \n",
    "십원 = a//10 \n",
    "a = a%10 \n",
    "\n",
    "print(f'500원짜리 ==> {오백원}개')\n",
    "print(f'100원짜리 ==> {백원}개')\n",
    "print(f' 50원짜리 ==> {오십원}개')\n",
    "print(f'10원짜리 ==> {십원}개')\n",
    "print(f'잔돈 ==>{a}원')\n",
    "\n"
   ]
  },
  {
   "cell_type": "code",
   "execution_count": null,
   "id": "680a3c73",
   "metadata": {},
   "outputs": [],
   "source": [
    "a = int(input('동전으로 교환할 금액을 입력하세요: '))\n",
    "\n",
    "\n",
    "오만원 = a//50000\n",
    "a = a%50000\n",
    "만원 = a//10000\n",
    "a = a%10000\n",
    "오천원 = a//5000\n",
    "a = a%5000\n",
    "천원 = a//1000\n",
    "a = a%1000\n",
    "오백원 = a//500 \n",
    "a = a%500 \n",
    "백원 = a//100\n",
    "a = a%100\n",
    "오십원 = a//50\n",
    "a = a%50 \n",
    "십원 = a//10 \n",
    "a = a%10 \n",
    "\n",
    "print(f'50000원 ==> {오만원}장, 10000원 ==> {만원}장, 5000원 ==> {오천원}장, 1000원 ==> {천원}')\n",
    "print(f'500원 ==> {오백원}개, 100원 ==> {백원}개, 50원 ==> {오십원}개, 10원 ==> {십원}개')\n",
    "print(f'잔돈 ==>{a}원')\n",
    "\n"
   ]
  },
  {
   "cell_type": "code",
   "execution_count": null,
   "id": "6fa1c7fe",
   "metadata": {},
   "outputs": [],
   "source": [
    "x = int(input('숫자를 입력해 주세요: '))\n",
    "\n",
    "if x % 2 ==  0:\n",
    "    print('짝수입니다.')\n",
    "    \n",
    "else: \n",
    "    print(f'입력된 수: {x} ==> 홀수')\n",
    "    "
   ]
  },
  {
   "cell_type": "code",
   "execution_count": null,
   "id": "607adc2c",
   "metadata": {},
   "outputs": [],
   "source": [
    "x = int(input('성적을 입력해 주세요: '))\n",
    "\n",
    "if x > 89:\n",
    "    print(f'성적: {x}는 A 등급 입니다.')\n",
    "elif 80 <= x < 90: \n",
    "    print(f'성적: {x}는 B 등급 입니다.')\n",
    "elif 70 <= x < 80:\n",
    "    print(f'성적: {x}는 C 등급 입니다.')\n",
    "elif x < 70:\n",
    "    print(f'성적: {x}는 D 등급 입니다.')"
   ]
  },
  {
   "cell_type": "code",
   "execution_count": null,
   "id": "592f6b9a",
   "metadata": {},
   "outputs": [],
   "source": [
    "# grade 변수 등록 \n",
    "x = int(input('성적을 입력해 주세요: '))\n",
    "grade = 'D'\n",
    "\n",
    "if x > 89:\n",
    "    grade = 'A'\n",
    "elif 80 <= x < 90: \n",
    "    grade = 'B'\n",
    "elif 70 <= x < 80:\n",
    "    grade = 'c'\n",
    "\n",
    "print(f'성적: {x}는 {grade}등급 입니다')"
   ]
  },
  {
   "cell_type": "code",
   "execution_count": null,
   "id": "5c8d000a",
   "metadata": {},
   "outputs": [],
   "source": [
    "n = input('주민번호: ')\n",
    "ymd = int(n[7])\n",
    "yy = int(n[0:2])\n",
    "mm = int(n[2:4])\n",
    "dd = int(n[4:6])\n",
    " \n",
    "if ymd == 1:\n",
    "    gender = '남성'\n",
    "    yy += 1900 \n",
    "elif ymd == 2:\n",
    "    gender = '여성'\n",
    "    yy += 1900\n",
    "elif ymd == 3:\n",
    "    gender = '남성'\n",
    "    yy += 2000\n",
    "elif ymd == 3:\n",
    "    gender = '여성'\n",
    "    yy += 2000    \n",
    "    \n",
    "print(f'{yy}년 {mm}월 {dd}일, {2021 - yy}세, {gender}')\n",
    "\n",
    "#다시 해보기 \n",
    "\n",
    "    "
   ]
  },
  {
   "cell_type": "code",
   "execution_count": null,
   "id": "a767ad14",
   "metadata": {},
   "outputs": [],
   "source": [
    "ia = int(input('아메리카노 몇잔? '))\n",
    "la = int(input('카페라떼 몇잔? '))\n",
    "cpu = int(input('카푸치노 몇잔? ')) \n",
    "\n",
    "total = ia*2500 + la*3000 + cpu*3000\n",
    "print(f'지불할 총 금액은 {total}원 입니다.')\n"
   ]
  },
  {
   "cell_type": "code",
   "execution_count": null,
   "id": "29eb3555",
   "metadata": {},
   "outputs": [],
   "source": [
    "prompt = '''[커피 자동주문 머신 메뉴]\n",
    "-------------------------------\n",
    "-아메리카노는 2500원 \n",
    "-카페라떼는 3000원\n",
    "-카푸치노는 3000원 \n",
    "입니다. 원하시는 커피종류와 잔수를 입력하세요.\n",
    "--------------------------------\n",
    "'''\n",
    "\n",
    "print(prompt)\n",
    "\n",
    "coffe1 = int(input('아메리카노 몇잔? '))\n",
    "coffe2 = int(input('카페라떼 몇잔? '))\n",
    "coffe3 = int(input('카푸치노 몇잔? ')) \n",
    "\n",
    "total = coffe1*2500 +coffe2*3000 + coffe3*3000\n",
    "print(f'지불할 총 금액은 {total}원 입니다.')\n",
    "\n",
    "money = int(input('돈을 넣어주세요: '))\n",
    "\n",
    "if money > total: \n",
    "    print(f'거스름돈은 {money - total}원 입니다.')\n",
    "elif money == total:\n",
    "    print('결제가 완료 되었습니다.')\n",
    "else: \n",
    "    print(f'입력한 금액이 부족합니다. {total - money}원을 더 넣어주세요.')\n"
   ]
  },
  {
   "cell_type": "code",
   "execution_count": null,
   "id": "0c7c4379",
   "metadata": {},
   "outputs": [],
   "source": [
    "prompt = '''주사위를 던집니다! \n",
    "-----------------------------\n",
    "'''\n",
    "\n",
    "print(prompt)\n",
    "\n",
    "import random\n",
    "a = random.randrange(1,7,1)\n",
    "b = random.randrange(1,7,1)\n",
    "\n",
    "print(f'A의 주사위 숫자는 {a}입니다.')\n",
    "print(f'B의 주사위 숫자는 {b}입니다.')\n",
    "print('-'*20)\n",
    "if a > b:\n",
    "    print(f'A가 이겼습니다.')\n",
    "elif a < b:\n",
    "    print(f'B가 이겼습니다.')\n",
    "else:\n",
    "    print(f'비겼습니다.')\n"
   ]
  },
  {
   "cell_type": "code",
   "execution_count": null,
   "id": "99121d21",
   "metadata": {},
   "outputs": [],
   "source": [
    "a_list = [70,60,55,75,95,90,80,80,85,100]\n",
    "hap = 0 \n",
    "\n",
    "hap = sum(a_list)\n",
    "print(f'{a_list}안의 모든 합은: {hap}')\n",
    "    "
   ]
  },
  {
   "cell_type": "code",
   "execution_count": null,
   "id": "62b43acf",
   "metadata": {},
   "outputs": [],
   "source": [
    "n = int(input('합계를 구할 숫자 입력: '))\n",
    "hap = 0 \n",
    "for i in range(1,n+1):\n",
    "    hap = hap + i\n",
    "print(f'1~{n}까지의 합은: {hap}')"
   ]
  },
  {
   "cell_type": "code",
   "execution_count": null,
   "id": "9b588b0c",
   "metadata": {},
   "outputs": [],
   "source": [
    "n = int(input('합계를 구할 숫자 입력: '))\n",
    "hap = 0 \n",
    "for i in range(1,n+1,2):\n",
    "    hap = hap + i \n",
    "print(f'1~{n}까지 짝수를 제외한 합은: {hap}')\n"
   ]
  },
  {
   "cell_type": "code",
   "execution_count": null,
   "id": "4d66da70",
   "metadata": {},
   "outputs": [],
   "source": [
    "# 다른 방법\n",
    "n = int(input('합계를 구할 숫자 입력: '))\n",
    "hap = 0 \n",
    "for i in range(1,n+1,2):\n",
    "    if i % 2 != 0:\n",
    "        hap = hap + i \n",
    "print(f'1~{n}까지 짝수를 제외한 합은: {hap}')"
   ]
  },
  {
   "cell_type": "code",
   "execution_count": 2,
   "id": "88da303e",
   "metadata": {},
   "outputs": [
    {
     "name": "stdout",
     "output_type": "stream",
     "text": [
      "몇단을 출력할까요?: 5\n",
      "5 * 1 = 5\n",
      "5 * 2 = 10\n",
      "5 * 3 = 15\n",
      "5 * 4 = 20\n",
      "5 * 5 = 25\n",
      "5 * 6 = 30\n",
      "5 * 7 = 35\n",
      "5 * 8 = 40\n",
      "5 * 9 = 45\n"
     ]
    }
   ],
   "source": [
    "a = int(input('몇단을 출력할까요?: '))\n",
    "\n",
    "for i in range(1,10,1):\n",
    "    aa = a * i \n",
    "    print(f'{a} * {i} = {aa}')"
   ]
  },
  {
   "cell_type": "code",
   "execution_count": 62,
   "id": "d8c19cc8",
   "metadata": {},
   "outputs": [
    {
     "name": "stdout",
     "output_type": "stream",
     "text": [
      " #  2단  #  3단  #  4단  #  5단  #  6단  #  7단  #  8단  #  9단 \n",
      "2*1=  2  3*1=  3  4*1=  4  5*1=  5  6*1=  6  7*1=  7  8*1=  8  9*1=  9  2*2=  4  3*2=  6  4*2=  8  5*2= 10  6*2= 12  7*2= 14  8*2= 16  9*2= 18  2*3=  6  3*3=  9  4*3= 12  5*3= 15  6*3= 18  7*3= 21  8*3= 24  9*3= 27  2*4=  8  3*4= 12  4*4= 16  5*4= 20  6*4= 24  7*4= 28  8*4= 32  9*4= 36  2*5= 10  3*5= 15  4*5= 20  5*5= 25  6*5= 30  7*5= 35  8*5= 40  9*5= 45  2*6= 12  3*6= 18  4*6= 24  5*6= 30  6*6= 36  7*6= 42  8*6= 48  9*6= 54  2*7= 14  3*7= 21  4*7= 28  5*7= 35  6*7= 42  7*7= 49  8*7= 56  9*7= 63  2*8= 16  3*8= 24  4*8= 32  5*8= 40  6*8= 48  7*8= 56  8*8= 64  9*8= 72  2*9= 18  3*9= 27  4*9= 36  5*9= 45  6*9= 54  7*9= 63  8*9= 72  9*9= 81  \n"
     ]
    }
   ],
   "source": [
    "for i in range(2,10,1):\n",
    "    print(f' # {i:2}단', end = ' ')\n",
    "print()\n",
    "for a in range(1,10):\n",
    "    for b in range(2,10):\n",
    "        print(f'{b}*{a}= {b*a:2}',  end='  ')\n",
    "print()"
   ]
  },
  {
   "cell_type": "code",
   "execution_count": 78,
   "id": "6d9e119c",
   "metadata": {},
   "outputs": [
    {
     "name": "stdout",
     "output_type": "stream",
     "text": [
      " 1  2  3  4 \n",
      " 5  6  7  8 \n",
      " 9 10 11 12 \n"
     ]
    }
   ],
   "source": [
    "v = 1 \n",
    "for i in range(3):\n",
    "    for k in range(4):\n",
    "        print(f'{v:2}', end = ' ')\n",
    "        v += 1 \n",
    "    print()"
   ]
  },
  {
   "cell_type": "code",
   "execution_count": 81,
   "id": "2e5bea2b",
   "metadata": {},
   "outputs": [
    {
     "name": "stdout",
     "output_type": "stream",
     "text": [
      " 1  4  7 10 \n",
      " 2  5  8 11 \n",
      " 3  6  9 12 \n"
     ]
    }
   ],
   "source": [
    "\n",
    "for i in range(3):\n",
    "    v = 1\n",
    "    for k in range(4):\n",
    "        print(f'{v+i:2}', end = ' ')\n",
    "        v += 3 \n",
    "    print()\n",
    "    "
   ]
  },
  {
   "cell_type": "code",
   "execution_count": null,
   "id": "50fcdb3b",
   "metadata": {},
   "outputs": [],
   "source": []
  }
 ],
 "metadata": {
  "kernelspec": {
   "display_name": "Python 3 (ipykernel)",
   "language": "python",
   "name": "python3"
  },
  "language_info": {
   "codemirror_mode": {
    "name": "ipython",
    "version": 3
   },
   "file_extension": ".py",
   "mimetype": "text/x-python",
   "name": "python",
   "nbconvert_exporter": "python",
   "pygments_lexer": "ipython3",
   "version": "3.8.10"
  }
 },
 "nbformat": 4,
 "nbformat_minor": 5
}
